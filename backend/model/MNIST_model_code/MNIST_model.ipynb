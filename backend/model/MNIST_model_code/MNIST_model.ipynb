{
  "cells": [
    {
      "cell_type": "code",
      "execution_count": null,
      "metadata": {
        "id": "vhTQ9PpHioWw"
      },
      "outputs": [],
      "source": [
        "from keras.datasets import mnist\n",
        "import numpy as np\n",
        "import tensorflow as tf\n",
        "from tensorflow.keras.models import Sequential\n",
        "from tensorflow.keras.layers import Dense\n",
        "from tensorflow.keras.utils import to_categorical\n",
        "from tensorflow.keras.preprocessing.image import ImageDataGenerator\n",
        "from tensorflow.keras.models import Sequential\n",
        "from tensorflow.keras.layers import Dense, Conv2D, Flatten, Dropout, MaxPooling2D"
      ]
    },
    {
      "cell_type": "code",
      "execution_count": null,
      "metadata": {
        "id": "-u-DZ-tli2O2"
      },
      "outputs": [],
      "source": [
        "import pandas as pd\n",
        "(x_train, y_train), (x_test, y_test) = mnist.load_data()\n",
        "\n",
        "batch_size = 128\n",
        "epochs = 10\n",
        "\n",
        "if tf.keras.backend.image_data_format() == 'channels_first':\n",
        "    x_train = x_train.reshape(x_train.shape[0], 1, 28, 28)\n",
        "    x_test = x_test.reshape(x_test.shape[0], 1, 28, 28)\n",
        "    input_shape = (1, 28, 28)\n",
        "else:\n",
        "    x_train = x_train.reshape(x_train.shape[0], 28, 28, 1)\n",
        "    x_test = x_test.reshape(x_test.shape[0], 28, 28, 1)\n",
        "    input_shape = (28, 28, 1)"
      ]
    },
    {
      "cell_type": "code",
      "execution_count": null,
      "metadata": {
        "id": "pPuYNHAbjF_L"
      },
      "outputs": [],
      "source": [
        "x_train = x_train.astype('float32')\n",
        "x_test = x_test.astype('float32')\n",
        "train_images = (x_train / 255.)\n",
        "test_images = (x_test / 255.)\n",
        "image_gen = ImageDataGenerator(rotation_range=20, zoom_range = 0.7)\n",
        "\n",
        "num_classes = 10\n",
        "\n",
        "y_train = tf.keras.utils.to_categorical(y_train, num_classes)\n",
        "y_test = tf.keras.utils.to_categorical(y_test, num_classes)"
      ]
    },
    {
      "cell_type": "code",
      "execution_count": null,
      "metadata": {
        "id": "qAh4yxvCjSXg"
      },
      "outputs": [],
      "source": [
        "# train_images = train_images.reshape((-1, 784))\n",
        "# test_images = test_images.reshape((-1, 784))"
      ]
    },
    {
      "cell_type": "code",
      "execution_count": null,
      "metadata": {
        "colab": {
          "base_uri": "https://localhost:8080/"
        },
        "id": "Rz1Jl8vujelf",
        "outputId": "4598614e-0802-4a34-a16a-de5a2e3cc718"
      },
      "outputs": [
        {
          "output_type": "stream",
          "name": "stdout",
          "text": [
            "Model: \"sequential\"\n",
            "_________________________________________________________________\n",
            " Layer (type)                Output Shape              Param #   \n",
            "=================================================================\n",
            " conv2d (Conv2D)             (None, 24, 24, 32)        832       \n",
            "                                                                 \n",
            " conv2d_1 (Conv2D)           (None, 20, 20, 64)        51264     \n",
            "                                                                 \n",
            " max_pooling2d (MaxPooling2D  (None, 10, 10, 64)       0         \n",
            " )                                                               \n",
            "                                                                 \n",
            " batch_normalization (BatchN  (None, 10, 10, 64)       256       \n",
            " ormalization)                                                   \n",
            "                                                                 \n",
            " dropout (Dropout)           (None, 10, 10, 64)        0         \n",
            "                                                                 \n",
            " conv2d_2 (Conv2D)           (None, 6, 6, 64)          102464    \n",
            "                                                                 \n",
            " max_pooling2d_1 (MaxPooling  (None, 3, 3, 64)         0         \n",
            " 2D)                                                             \n",
            "                                                                 \n",
            " batch_normalization_1 (Batc  (None, 3, 3, 64)         256       \n",
            " hNormalization)                                                 \n",
            "                                                                 \n",
            " dropout_1 (Dropout)         (None, 3, 3, 64)          0         \n",
            "                                                                 \n",
            " flatten (Flatten)           (None, 576)               0         \n",
            "                                                                 \n",
            " dense (Dense)               (None, 10)                5770      \n",
            "                                                                 \n",
            "=================================================================\n",
            "Total params: 160,842\n",
            "Trainable params: 160,586\n",
            "Non-trainable params: 256\n",
            "_________________________________________________________________\n"
          ]
        }
      ],
      "source": [
        "from tensorflow.keras.layers import BatchNormalization\n",
        "from tensorflow.keras.layers import Dropout\n",
        "\n",
        "model = Sequential()\n",
        "model.add(Conv2D(32, kernel_size=(5,5),\n",
        "                 activation='relu',\n",
        "                 input_shape=input_shape))\n",
        "model.add(Conv2D(64, (5, 5), activation='relu'))\n",
        "model.add(MaxPooling2D(pool_size=(2, 2)))\n",
        "model.add(BatchNormalization())\n",
        "model.add(Dropout(0.5))\n",
        "\n",
        "model.add(Conv2D(64, (5, 5), activation='relu'))\n",
        "model.add(MaxPooling2D(pool_size=(2, 2)))\n",
        "model.add(BatchNormalization())\n",
        "model.add(Dropout(0.5))\n",
        "\n",
        "model.add(Flatten())\n",
        "model.add(Dense(num_classes, activation='softmax'))\n",
        "\n",
        "model.summary()"
      ]
    },
    {
      "cell_type": "code",
      "execution_count": null,
      "metadata": {
        "id": "y19l9w7Hjnr5"
      },
      "outputs": [],
      "source": [
        "model.compile(\n",
        "    optimizer='adam',\n",
        "    loss='categorical_crossentropy',\n",
        "    metrics=['accuracy'],\n",
        ")"
      ]
    },
    {
      "cell_type": "code",
      "execution_count": null,
      "metadata": {
        "colab": {
          "base_uri": "https://localhost:8080/"
        },
        "id": "GFRT772CjpMI",
        "outputId": "05e669a3-4208-4483-fd35-90f7858dc943"
      },
      "outputs": [
        {
          "output_type": "stream",
          "name": "stdout",
          "text": [
            "Epoch 1/10\n",
            "469/469 [==============================] - 18s 29ms/step - loss: 0.2099 - accuracy: 0.9350 - val_loss: 0.0513 - val_accuracy: 0.9835\n",
            "Epoch 2/10\n",
            "469/469 [==============================] - 10s 22ms/step - loss: 0.0722 - accuracy: 0.9777 - val_loss: 0.0306 - val_accuracy: 0.9896\n",
            "Epoch 3/10\n",
            "469/469 [==============================] - 8s 17ms/step - loss: 0.0580 - accuracy: 0.9821 - val_loss: 0.0451 - val_accuracy: 0.9862\n",
            "Epoch 4/10\n",
            "469/469 [==============================] - 8s 17ms/step - loss: 0.0462 - accuracy: 0.9855 - val_loss: 0.0276 - val_accuracy: 0.9905\n",
            "Epoch 5/10\n",
            "469/469 [==============================] - 8s 17ms/step - loss: 0.0420 - accuracy: 0.9870 - val_loss: 0.0266 - val_accuracy: 0.9917\n",
            "Epoch 6/10\n",
            "469/469 [==============================] - 8s 18ms/step - loss: 0.0383 - accuracy: 0.9880 - val_loss: 0.0205 - val_accuracy: 0.9936\n",
            "Epoch 7/10\n",
            "469/469 [==============================] - 8s 17ms/step - loss: 0.0357 - accuracy: 0.9885 - val_loss: 0.0289 - val_accuracy: 0.9908\n",
            "Epoch 8/10\n",
            "469/469 [==============================] - 8s 17ms/step - loss: 0.0329 - accuracy: 0.9892 - val_loss: 0.0219 - val_accuracy: 0.9931\n",
            "Epoch 9/10\n",
            "469/469 [==============================] - 8s 17ms/step - loss: 0.0319 - accuracy: 0.9898 - val_loss: 0.0212 - val_accuracy: 0.9930\n",
            "Epoch 10/10\n",
            "469/469 [==============================] - 8s 17ms/step - loss: 0.0290 - accuracy: 0.9907 - val_loss: 0.0165 - val_accuracy: 0.9942\n",
            "Test loss: 0.0165249016135931\n",
            "Test accuracy: 0.9941999912261963\n"
          ]
        }
      ],
      "source": [
        "history = model.fit(x_train, y_train,\n",
        "          batch_size=batch_size,\n",
        "          epochs=epochs,\n",
        "          verbose=1,\n",
        "          validation_data=(x_test, y_test))\n",
        "score = model.evaluate(x_test, y_test, verbose=0)\n",
        "print('Test loss:', score[0])\n",
        "print('Test accuracy:', score[1])"
      ]
    },
    {
      "cell_type": "code",
      "execution_count": null,
      "metadata": {
        "id": "JVUBScyRDoGh",
        "colab": {
          "base_uri": "https://localhost:8080/"
        },
        "outputId": "4d4a8f6f-980c-4cfb-dd4b-7ea7b573382e"
      },
      "outputs": [
        {
          "output_type": "stream",
          "name": "stdout",
          "text": [
            "INFO:tensorflow:Assets written to: MNIST_model_trained/assets\n"
          ]
        }
      ],
      "source": [
        "model.save(\"MNIST_model_trained\")"
      ]
    }
  ],
  "metadata": {
    "accelerator": "GPU",
    "colab": {
      "collapsed_sections": [],
      "name": "Copy of Copy of hackMNIST.ipynb",
      "provenance": []
    },
    "kernelspec": {
      "display_name": "Python 3",
      "name": "python3"
    },
    "language_info": {
      "name": "python"
    }
  },
  "nbformat": 4,
  "nbformat_minor": 0
}